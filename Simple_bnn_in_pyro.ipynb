{
  "nbformat": 4,
  "nbformat_minor": 0,
  "metadata": {
    "colab": {
      "provenance": [],
      "authorship_tag": "ABX9TyMcNvWnd6x0bSKWlR5vJkYQ",
      "include_colab_link": true
    },
    "kernelspec": {
      "name": "python3",
      "display_name": "Python 3"
    },
    "language_info": {
      "name": "python"
    },
    "widgets": {
      "application/vnd.jupyter.widget-state+json": {
        "c90a06d5826348ec89edd30ef58ada7f": {
          "model_module": "@jupyter-widgets/controls",
          "model_name": "HBoxModel",
          "model_module_version": "1.5.0",
          "state": {
            "_dom_classes": [],
            "_model_module": "@jupyter-widgets/controls",
            "_model_module_version": "1.5.0",
            "_model_name": "HBoxModel",
            "_view_count": null,
            "_view_module": "@jupyter-widgets/controls",
            "_view_module_version": "1.5.0",
            "_view_name": "HBoxView",
            "box_style": "",
            "children": [
              "IPY_MODEL_7240991f81364c87aad44e089dd1925e",
              "IPY_MODEL_8b636cc3fd624cf3aaba797945470be6",
              "IPY_MODEL_1aacc6e13cdc4a1f940d17139ae35f6e"
            ],
            "layout": "IPY_MODEL_9d0386c732ac44b6b5963233daa52567"
          }
        },
        "7240991f81364c87aad44e089dd1925e": {
          "model_module": "@jupyter-widgets/controls",
          "model_name": "HTMLModel",
          "model_module_version": "1.5.0",
          "state": {
            "_dom_classes": [],
            "_model_module": "@jupyter-widgets/controls",
            "_model_module_version": "1.5.0",
            "_model_name": "HTMLModel",
            "_view_count": null,
            "_view_module": "@jupyter-widgets/controls",
            "_view_module_version": "1.5.0",
            "_view_name": "HTMLView",
            "description": "",
            "description_tooltip": null,
            "layout": "IPY_MODEL_1e0949360e9d4fdd86a583af1c4bc0ab",
            "placeholder": "​",
            "style": "IPY_MODEL_1ba4dbdbeae04854887245691949c0d2",
            "value": "100%"
          }
        },
        "8b636cc3fd624cf3aaba797945470be6": {
          "model_module": "@jupyter-widgets/controls",
          "model_name": "FloatProgressModel",
          "model_module_version": "1.5.0",
          "state": {
            "_dom_classes": [],
            "_model_module": "@jupyter-widgets/controls",
            "_model_module_version": "1.5.0",
            "_model_name": "FloatProgressModel",
            "_view_count": null,
            "_view_module": "@jupyter-widgets/controls",
            "_view_module_version": "1.5.0",
            "_view_name": "ProgressView",
            "bar_style": "success",
            "description": "",
            "description_tooltip": null,
            "layout": "IPY_MODEL_8a59b202fd7f4fd5ab2f5f3f97c2a327",
            "max": 500,
            "min": 0,
            "orientation": "horizontal",
            "style": "IPY_MODEL_5a01cf5c84154073ab9bd8a82b81c896",
            "value": 500
          }
        },
        "1aacc6e13cdc4a1f940d17139ae35f6e": {
          "model_module": "@jupyter-widgets/controls",
          "model_name": "HTMLModel",
          "model_module_version": "1.5.0",
          "state": {
            "_dom_classes": [],
            "_model_module": "@jupyter-widgets/controls",
            "_model_module_version": "1.5.0",
            "_model_name": "HTMLModel",
            "_view_count": null,
            "_view_module": "@jupyter-widgets/controls",
            "_view_module_version": "1.5.0",
            "_view_name": "HTMLView",
            "description": "",
            "description_tooltip": null,
            "layout": "IPY_MODEL_9864c896a34a488d8c40fdb297a6af0f",
            "placeholder": "​",
            "style": "IPY_MODEL_4d467f84bdfe40f4ba6322f04af5da7c",
            "value": " 500/500 [00:06&lt;00:00, 95.49it/s]"
          }
        },
        "9d0386c732ac44b6b5963233daa52567": {
          "model_module": "@jupyter-widgets/base",
          "model_name": "LayoutModel",
          "model_module_version": "1.2.0",
          "state": {
            "_model_module": "@jupyter-widgets/base",
            "_model_module_version": "1.2.0",
            "_model_name": "LayoutModel",
            "_view_count": null,
            "_view_module": "@jupyter-widgets/base",
            "_view_module_version": "1.2.0",
            "_view_name": "LayoutView",
            "align_content": null,
            "align_items": null,
            "align_self": null,
            "border": null,
            "bottom": null,
            "display": null,
            "flex": null,
            "flex_flow": null,
            "grid_area": null,
            "grid_auto_columns": null,
            "grid_auto_flow": null,
            "grid_auto_rows": null,
            "grid_column": null,
            "grid_gap": null,
            "grid_row": null,
            "grid_template_areas": null,
            "grid_template_columns": null,
            "grid_template_rows": null,
            "height": null,
            "justify_content": null,
            "justify_items": null,
            "left": null,
            "margin": null,
            "max_height": null,
            "max_width": null,
            "min_height": null,
            "min_width": null,
            "object_fit": null,
            "object_position": null,
            "order": null,
            "overflow": null,
            "overflow_x": null,
            "overflow_y": null,
            "padding": null,
            "right": null,
            "top": null,
            "visibility": null,
            "width": null
          }
        },
        "1e0949360e9d4fdd86a583af1c4bc0ab": {
          "model_module": "@jupyter-widgets/base",
          "model_name": "LayoutModel",
          "model_module_version": "1.2.0",
          "state": {
            "_model_module": "@jupyter-widgets/base",
            "_model_module_version": "1.2.0",
            "_model_name": "LayoutModel",
            "_view_count": null,
            "_view_module": "@jupyter-widgets/base",
            "_view_module_version": "1.2.0",
            "_view_name": "LayoutView",
            "align_content": null,
            "align_items": null,
            "align_self": null,
            "border": null,
            "bottom": null,
            "display": null,
            "flex": null,
            "flex_flow": null,
            "grid_area": null,
            "grid_auto_columns": null,
            "grid_auto_flow": null,
            "grid_auto_rows": null,
            "grid_column": null,
            "grid_gap": null,
            "grid_row": null,
            "grid_template_areas": null,
            "grid_template_columns": null,
            "grid_template_rows": null,
            "height": null,
            "justify_content": null,
            "justify_items": null,
            "left": null,
            "margin": null,
            "max_height": null,
            "max_width": null,
            "min_height": null,
            "min_width": null,
            "object_fit": null,
            "object_position": null,
            "order": null,
            "overflow": null,
            "overflow_x": null,
            "overflow_y": null,
            "padding": null,
            "right": null,
            "top": null,
            "visibility": null,
            "width": null
          }
        },
        "1ba4dbdbeae04854887245691949c0d2": {
          "model_module": "@jupyter-widgets/controls",
          "model_name": "DescriptionStyleModel",
          "model_module_version": "1.5.0",
          "state": {
            "_model_module": "@jupyter-widgets/controls",
            "_model_module_version": "1.5.0",
            "_model_name": "DescriptionStyleModel",
            "_view_count": null,
            "_view_module": "@jupyter-widgets/base",
            "_view_module_version": "1.2.0",
            "_view_name": "StyleView",
            "description_width": ""
          }
        },
        "8a59b202fd7f4fd5ab2f5f3f97c2a327": {
          "model_module": "@jupyter-widgets/base",
          "model_name": "LayoutModel",
          "model_module_version": "1.2.0",
          "state": {
            "_model_module": "@jupyter-widgets/base",
            "_model_module_version": "1.2.0",
            "_model_name": "LayoutModel",
            "_view_count": null,
            "_view_module": "@jupyter-widgets/base",
            "_view_module_version": "1.2.0",
            "_view_name": "LayoutView",
            "align_content": null,
            "align_items": null,
            "align_self": null,
            "border": null,
            "bottom": null,
            "display": null,
            "flex": null,
            "flex_flow": null,
            "grid_area": null,
            "grid_auto_columns": null,
            "grid_auto_flow": null,
            "grid_auto_rows": null,
            "grid_column": null,
            "grid_gap": null,
            "grid_row": null,
            "grid_template_areas": null,
            "grid_template_columns": null,
            "grid_template_rows": null,
            "height": null,
            "justify_content": null,
            "justify_items": null,
            "left": null,
            "margin": null,
            "max_height": null,
            "max_width": null,
            "min_height": null,
            "min_width": null,
            "object_fit": null,
            "object_position": null,
            "order": null,
            "overflow": null,
            "overflow_x": null,
            "overflow_y": null,
            "padding": null,
            "right": null,
            "top": null,
            "visibility": null,
            "width": null
          }
        },
        "5a01cf5c84154073ab9bd8a82b81c896": {
          "model_module": "@jupyter-widgets/controls",
          "model_name": "ProgressStyleModel",
          "model_module_version": "1.5.0",
          "state": {
            "_model_module": "@jupyter-widgets/controls",
            "_model_module_version": "1.5.0",
            "_model_name": "ProgressStyleModel",
            "_view_count": null,
            "_view_module": "@jupyter-widgets/base",
            "_view_module_version": "1.2.0",
            "_view_name": "StyleView",
            "bar_color": null,
            "description_width": ""
          }
        },
        "9864c896a34a488d8c40fdb297a6af0f": {
          "model_module": "@jupyter-widgets/base",
          "model_name": "LayoutModel",
          "model_module_version": "1.2.0",
          "state": {
            "_model_module": "@jupyter-widgets/base",
            "_model_module_version": "1.2.0",
            "_model_name": "LayoutModel",
            "_view_count": null,
            "_view_module": "@jupyter-widgets/base",
            "_view_module_version": "1.2.0",
            "_view_name": "LayoutView",
            "align_content": null,
            "align_items": null,
            "align_self": null,
            "border": null,
            "bottom": null,
            "display": null,
            "flex": null,
            "flex_flow": null,
            "grid_area": null,
            "grid_auto_columns": null,
            "grid_auto_flow": null,
            "grid_auto_rows": null,
            "grid_column": null,
            "grid_gap": null,
            "grid_row": null,
            "grid_template_areas": null,
            "grid_template_columns": null,
            "grid_template_rows": null,
            "height": null,
            "justify_content": null,
            "justify_items": null,
            "left": null,
            "margin": null,
            "max_height": null,
            "max_width": null,
            "min_height": null,
            "min_width": null,
            "object_fit": null,
            "object_position": null,
            "order": null,
            "overflow": null,
            "overflow_x": null,
            "overflow_y": null,
            "padding": null,
            "right": null,
            "top": null,
            "visibility": null,
            "width": null
          }
        },
        "4d467f84bdfe40f4ba6322f04af5da7c": {
          "model_module": "@jupyter-widgets/controls",
          "model_name": "DescriptionStyleModel",
          "model_module_version": "1.5.0",
          "state": {
            "_model_module": "@jupyter-widgets/controls",
            "_model_module_version": "1.5.0",
            "_model_name": "DescriptionStyleModel",
            "_view_count": null,
            "_view_module": "@jupyter-widgets/base",
            "_view_module_version": "1.2.0",
            "_view_name": "StyleView",
            "description_width": ""
          }
        }
      }
    }
  },
  "cells": [
    {
      "cell_type": "markdown",
      "metadata": {
        "id": "view-in-github",
        "colab_type": "text"
      },
      "source": [
        "<a href=\"https://colab.research.google.com/github/bominwang/Bayesian-neural-network/blob/demo/Simple_bnn_in_pyro.ipynb\" target=\"_parent\"><img src=\"https://colab.research.google.com/assets/colab-badge.svg\" alt=\"Open In Colab\"/></a>"
      ]
    },
    {
      "cell_type": "code",
      "execution_count": 71,
      "metadata": {
        "id": "UXJWvH3IP4qB"
      },
      "outputs": [],
      "source": [
        "import torch\n",
        "import torch.nn as nn\n",
        "import pandas as pd\n",
        "import numpy as np\n",
        "import matplotlib.pyplot as plt\n",
        "import tqdm\n",
        "import tqdm.auto \n",
        "from tqdm.auto import trange, tqdm"
      ]
    },
    {
      "cell_type": "code",
      "source": [
        "!pip3 install pyro-ppl \n",
        "import pyro\n",
        "import pyro.distributions\n",
        "import pyro.nn\n",
        "from pyro.nn import PyroModule\n",
        "from pyro.nn import PyroSample\n",
        "import pyro.infer\n",
        "from pyro.infer import Trace_ELBO\n",
        "from pyro.infer import SVI\n",
        "from pyro.infer import Predictive"
      ],
      "metadata": {
        "colab": {
          "base_uri": "https://localhost:8080/"
        },
        "id": "kUhm3m_NQhlA",
        "outputId": "77370cd0-30d7-485d-ee39-5908cdf1d60c"
      },
      "execution_count": 72,
      "outputs": [
        {
          "output_type": "stream",
          "name": "stdout",
          "text": [
            "Looking in indexes: https://pypi.org/simple, https://us-python.pkg.dev/colab-wheels/public/simple/\n",
            "Requirement already satisfied: pyro-ppl in /usr/local/lib/python3.8/dist-packages (1.8.4)\n",
            "Requirement already satisfied: opt-einsum>=2.3.2 in /usr/local/lib/python3.8/dist-packages (from pyro-ppl) (3.3.0)\n",
            "Requirement already satisfied: torch>=1.11.0 in /usr/local/lib/python3.8/dist-packages (from pyro-ppl) (1.13.1+cu116)\n",
            "Requirement already satisfied: pyro-api>=0.1.1 in /usr/local/lib/python3.8/dist-packages (from pyro-ppl) (0.1.2)\n",
            "Requirement already satisfied: numpy>=1.7 in /usr/local/lib/python3.8/dist-packages (from pyro-ppl) (1.21.6)\n",
            "Requirement already satisfied: tqdm>=4.36 in /usr/local/lib/python3.8/dist-packages (from pyro-ppl) (4.64.1)\n",
            "Requirement already satisfied: typing-extensions in /usr/local/lib/python3.8/dist-packages (from torch>=1.11.0->pyro-ppl) (4.4.0)\n"
          ]
        }
      ]
    },
    {
      "cell_type": "code",
      "source": [
        "x = np.linspace(0, 0.5, 1000)\n",
        "e = 0.02 * np.random.randn(x.shape[0])\n",
        "y = x + 0.3 * np.sin(2 * np.pi * (x + e)) + 0.3 * np.sin(4 * np.pi *(x + e)) + e\n",
        "\n",
        "plt.figure(1)\n",
        "plt.plot(x, y, 'o', markersize = 1)\n",
        "plt.show()"
      ],
      "metadata": {
        "colab": {
          "base_uri": "https://localhost:8080/",
          "height": 265
        },
        "id": "TKAYFhlgRKR-",
        "outputId": "75df93bf-5b86-44e8-a930-87c29eb7327b"
      },
      "execution_count": 73,
      "outputs": [
        {
          "output_type": "display_data",
          "data": {
            "text/plain": [
              "<Figure size 432x288 with 1 Axes>"
            ],
            "image/png": "[encoded data removed]"
          },
          "metadata": {
            "needs_background": "light"
          }
        }
      ]
    },
    {
      "cell_type": "markdown",
      "source": [
        "**Model**"
      ],
      "metadata": {
        "id": "lukPU2pHkXem"
      }
    },
    {
      "cell_type": "code",
      "source": [
        "class bnn(PyroModule):\n",
        "  def __init__(self):\n",
        "    super(bnn, self).__init__()\n",
        "\n",
        "    # 定义第一层权重和偏置\n",
        "    self.fc_1 = PyroModule[nn.Linear](1, 20)\n",
        "    self.fc_1.weight = PyroSample(pyro.distributions.Normal(0.0, 1.0).expand([20, 1]).to_event(2))\n",
        "    self.fc_1.bias = PyroSample(pyro.distributions.Normal(0.0, 1.0).expand([20]).to_event(1))\n",
        "\n",
        "    # 定义第二层权重和偏置\n",
        "    self.fc_2 = PyroModule[nn.Linear](20, 20)\n",
        "    self.fc_2.weight = PyroSample(pyro.distributions.Normal(0.0, 1.0).expand([20, 20]).to_event(2))\n",
        "    self.fc_2.bias = PyroSample(pyro.distributions.Normal(0.0, 1.0).expand([20]).to_event(1))\n",
        "\n",
        "    # 定义第三层权重和偏置\n",
        "    self.fc_3 = PyroModule[nn.Linear](20, 1)\n",
        "    self.fc_3.weight = PyroSample(pyro.distributions.Normal(0.0, 1.0).expand([1, 20]).to_event(2))\n",
        "    self.fc_3.bias = PyroSample(pyro.distributions.Normal(0.0, 1.0).expand([1]).to_event(1))\n",
        "\n",
        "    self.relu = nn.ReLU()\n",
        "  \n",
        "  def forward(self, x, y = None):\n",
        "    x = x.reshape(-1, 1)\n",
        "    x = self.relu(self.fc_1(x))\n",
        "    x = self.relu(self.fc_2(x))\n",
        "    mu = self.fc_3(x).squeeze()\n",
        "    \n",
        "    sigma = pyro.sample('sigma', pyro.distributions.Uniform(0.0, 1.0))\n",
        "\n",
        "    with pyro.plate('data', x.shape[0]):\n",
        "      obs = pyro.sample('obs', pyro.distributions.Normal(mu, sigma), obs = y)\n",
        "    \n",
        "    return mu"
      ],
      "metadata": {
        "id": "YnJkBYr6SE75"
      },
      "execution_count": 74,
      "outputs": []
    },
    {
      "cell_type": "markdown",
      "source": [
        "**Training**"
      ],
      "metadata": {
        "id": "MFk6XnAWkaGw"
      }
    },
    {
      "cell_type": "code",
      "source": [
        "model = bnn()\n",
        "guide = pyro.infer.autoguide.AutoDiagonalNormal(model)\n",
        "adam = pyro.optim.Adam({'lr': 1e-3})\n",
        "svi = SVI(model, guide, adam, loss = Trace_ELBO())\n",
        "\n",
        "loss = []\n",
        "epoch = trange(500)\n",
        "\n",
        "x_train = torch.from_numpy(x).float()\n",
        "y_train = torch.from_numpy(y).float()\n",
        "\n",
        "for index in epoch:\n",
        "  l = svi.step(x_train, y_train)\n",
        "  loss.append(l)\n",
        "\n"
      ],
      "metadata": {
        "colab": {
          "base_uri": "https://localhost:8080/",
          "height": 49,
          "referenced_widgets": [
            "c90a06d5826348ec89edd30ef58ada7f",
            "7240991f81364c87aad44e089dd1925e",
            "8b636cc3fd624cf3aaba797945470be6",
            "1aacc6e13cdc4a1f940d17139ae35f6e",
            "9d0386c732ac44b6b5963233daa52567",
            "1e0949360e9d4fdd86a583af1c4bc0ab",
            "1ba4dbdbeae04854887245691949c0d2",
            "8a59b202fd7f4fd5ab2f5f3f97c2a327",
            "5a01cf5c84154073ab9bd8a82b81c896",
            "9864c896a34a488d8c40fdb297a6af0f",
            "4d467f84bdfe40f4ba6322f04af5da7c"
          ]
        },
        "id": "LYOAxgjUDpgl",
        "outputId": "27357569-3d9f-426a-d572-84574e56bfde"
      },
      "execution_count": 75,
      "outputs": [
        {
          "output_type": "display_data",
          "data": {
            "text/plain": [
              "  0%|          | 0/500 [00:00<?, ?it/s]"
            ],
            "application/vnd.jupyter.widget-view+json": {
              "version_major": 2,
              "version_minor": 0,
              "model_id": "c90a06d5826348ec89edd30ef58ada7f"
            }
          },
          "metadata": {}
        }
      ]
    },
    {
      "cell_type": "code",
      "source": [
        "plt.figure(2)\n",
        "plt.plot(loss)"
      ],
      "metadata": {
        "colab": {
          "base_uri": "https://localhost:8080/",
          "height": 283
        },
        "id": "fD9Z5BBskENf",
        "outputId": "e939b400-abb4-482a-c583-d962816d1cdc"
      },
      "execution_count": 76,
      "outputs": [
        {
          "output_type": "execute_result",
          "data": {
            "text/plain": [
              "[<matplotlib.lines.Line2D at 0x7f6954a69850>]"
            ]
          },
          "metadata": {},
          "execution_count": 76
        },
        {
          "output_type": "display_data",
          "data": {
            "text/plain": [
              "<Figure size 432x288 with 1 Axes>"
            ],
            "image/png": "[encoded data removed]"
          },
          "metadata": {
            "needs_background": "light"
          }
        }
      ]
    },
    {
      "cell_type": "markdown",
      "source": [
        "**Prediction**"
      ],
      "metadata": {
        "id": "A5b3hEhdkc7m"
      }
    },
    {
      "cell_type": "code",
      "source": [
        "predictive = Predictive(model, guide=guide, num_samples=3000)\n",
        "\n",
        "x_test = torch.linspace(-0.5, 1, 500)\n",
        "preds = predictive(x_test)\n",
        "\n",
        "y_pred = preds['obs'].T.detach().numpy().mean(axis=1)\n",
        "y_std = preds['obs'].T.detach().numpy().std(axis=1)\n",
        "\n",
        "fig, ax = plt.subplots(figsize=(10, 5))\n",
        "ax.plot(x, y, 'o', markersize=1)\n",
        "ax.plot(x_test, y_pred)\n",
        "ax.fill_between(x_test, y_pred - y_std, y_pred + y_std,\n",
        "                alpha=0.5, color='#ffcd3c');"
      ],
      "metadata": {
        "colab": {
          "base_uri": "https://localhost:8080/",
          "height": 320
        },
        "id": "c0duItwbkUIG",
        "outputId": "da0aa2cf-80e9-4bed-d829-63e1ae000afd"
      },
      "execution_count": 78,
      "outputs": [
        {
          "output_type": "display_data",
          "data": {
            "text/plain": [
              "<Figure size 720x360 with 1 Axes>"
            ],
            "image/png": "[encoded data removed]"
          },
          "metadata": {
            "needs_background": "light"
          }
        }
      ]
    }
  ]
}