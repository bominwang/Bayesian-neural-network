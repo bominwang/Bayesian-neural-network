{
  "nbformat": 4,
  "nbformat_minor": 0,
  "metadata": {
    "colab": {
      "provenance": [],
      "authorship_tag": "ABX9TyNA446BOfYGUzkhFvi0Q+iV",
      "include_colab_link": true
    },
    "kernelspec": {
      "name": "python3",
      "display_name": "Python 3"
    },
    "language_info": {
      "name": "python"
    }
  },
  "cells": [
    {
      "cell_type": "markdown",
      "metadata": {
        "id": "view-in-github",
        "colab_type": "text"
      },
      "source": [
        "<a href=\"https://colab.research.google.com/github/bominwang/Bayesian-neural-network/blob/main/BNN_for_reg.ipynb\" target=\"_parent\"><img src=\"https://colab.research.google.com/assets/colab-badge.svg\" alt=\"Open In Colab\"/></a>"
      ]
    },
    {
      "cell_type": "code",
      "execution_count": 7,
      "metadata": {
        "id": "dczrAY5Md4mY"
      },
      "outputs": [],
      "source": [
        "import torch\n",
        "import torch.nn as nn\n",
        "from torch.utils.data import DataLoader, TensorDataset \n",
        "import numpy\n",
        "import matplotlib.pyplot as plt\n",
        "import seaborn as sns"
      ]
    },
    {
      "cell_type": "code",
      "source": [
        "!pip3 install pyro-ppl \n",
        "import pyro\n",
        "from pyro.distributions import Normal, Categorical\n",
        "from pyro.optim import Adam\n",
        "from pyro.infer import SVI, Trace_ELBO"
      ],
      "metadata": {
        "colab": {
          "base_uri": "https://localhost:8080/"
        },
        "id": "YBEemYP7ewPP",
        "outputId": "9a7d89b2-2b3a-48ea-9731-4b728eac2edf"
      },
      "execution_count": 6,
      "outputs": [
        {
          "output_type": "stream",
          "name": "stdout",
          "text": [
            "Looking in indexes: https://pypi.org/simple, https://us-python.pkg.dev/colab-wheels/public/simple/\n",
            "Requirement already satisfied: pyro-ppl in /usr/local/lib/python3.8/dist-packages (1.8.4)\n",
            "Requirement already satisfied: pyro-api>=0.1.1 in /usr/local/lib/python3.8/dist-packages (from pyro-ppl) (0.1.2)\n",
            "Requirement already satisfied: numpy>=1.7 in /usr/local/lib/python3.8/dist-packages (from pyro-ppl) (1.21.6)\n",
            "Requirement already satisfied: torch>=1.11.0 in /usr/local/lib/python3.8/dist-packages (from pyro-ppl) (1.13.1+cu116)\n",
            "Requirement already satisfied: tqdm>=4.36 in /usr/local/lib/python3.8/dist-packages (from pyro-ppl) (4.64.1)\n",
            "Requirement already satisfied: opt-einsum>=2.3.2 in /usr/local/lib/python3.8/dist-packages (from pyro-ppl) (3.3.0)\n",
            "Requirement already satisfied: typing-extensions in /usr/local/lib/python3.8/dist-packages (from torch>=1.11.0->pyro-ppl) (4.4.0)\n"
          ]
        }
      ]
    }
  ]
}