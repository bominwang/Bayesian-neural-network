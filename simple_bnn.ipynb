{
  "nbformat": 4,
  "nbformat_minor": 0,
  "metadata": {
    "colab": {
      "provenance": [],
      "authorship_tag": "ABX9TyNi1OyyRrLxfX1Nx/RMFDmg",
      "include_colab_link": true
    },
    "kernelspec": {
      "name": "python3",
      "display_name": "Python 3"
    },
    "language_info": {
      "name": "python"
    },
    "gpuClass": "standard"
  },
  "cells": [
    {
      "cell_type": "markdown",
      "metadata": {
        "id": "view-in-github",
        "colab_type": "text"
      },
      "source": [
        "<a href=\"https://colab.research.google.com/github/bominwang/Bayesian-neural-network/blob/demo/simple_bnn.ipynb\" target=\"_parent\"><img src=\"https://colab.research.google.com/assets/colab-badge.svg\" alt=\"Open In Colab\"/></a>"
      ]
    },
    {
      "cell_type": "code",
      "execution_count": 1,
      "metadata": {
        "id": "M6lnZBl26Bmi"
      },
      "outputs": [],
      "source": [
        "import numpy as np\n",
        "import torch\n",
        "import torch.nn as nn\n",
        "from torch.utils.data import DataLoader, TensorDataset\n",
        "from functools import partial\n",
        "import matplotlib\n",
        "import matplotlib.pyplot as plt\n",
        "import tqdm\n",
        "import tqdm.auto\n",
        "from tqdm.auto import trange"
      ]
    },
    {
      "cell_type": "code",
      "source": [
        "!pip3 install pyro-ppl\n",
        "import pyro\n",
        "import pyro.distributions as distributions\n",
        "import pyro.infer\n",
        "!pip install tyxe\n",
        "import tyxe"
      ],
      "metadata": {
        "id": "nLYkPgjT6PTy",
        "colab": {
          "base_uri": "https://localhost:8080/"
        },
        "outputId": "4b389c76-dbdc-4a2c-ca87-54c7442f47bf"
      },
      "execution_count": 2,
      "outputs": [
        {
          "output_type": "stream",
          "name": "stdout",
          "text": [
            "Looking in indexes: https://pypi.org/simple, https://us-python.pkg.dev/colab-wheels/public/simple/\n",
            "Collecting pyro-ppl\n",
            "  Downloading pyro_ppl-1.8.4-py3-none-any.whl (730 kB)\n",
            "\u001b[2K     \u001b[90m━━━━━━━━━━━━━━━━━━━━━━━━━━━━━━━━━━━━━━\u001b[0m \u001b[32m730.7/730.7 KB\u001b[0m \u001b[31m11.3 MB/s\u001b[0m eta \u001b[36m0:00:00\u001b[0m\n",
            "\u001b[?25hRequirement already satisfied: opt-einsum>=2.3.2 in /usr/local/lib/python3.8/dist-packages (from pyro-ppl) (3.3.0)\n",
            "Requirement already satisfied: torch>=1.11.0 in /usr/local/lib/python3.8/dist-packages (from pyro-ppl) (1.13.1+cu116)\n",
            "Requirement already satisfied: numpy>=1.7 in /usr/local/lib/python3.8/dist-packages (from pyro-ppl) (1.21.6)\n",
            "Collecting pyro-api>=0.1.1\n",
            "  Downloading pyro_api-0.1.2-py3-none-any.whl (11 kB)\n",
            "Requirement already satisfied: tqdm>=4.36 in /usr/local/lib/python3.8/dist-packages (from pyro-ppl) (4.64.1)\n",
            "Requirement already satisfied: typing-extensions in /usr/local/lib/python3.8/dist-packages (from torch>=1.11.0->pyro-ppl) (4.5.0)\n",
            "Installing collected packages: pyro-api, pyro-ppl\n",
            "Successfully installed pyro-api-0.1.2 pyro-ppl-1.8.4\n",
            "Looking in indexes: https://pypi.org/simple, https://us-python.pkg.dev/colab-wheels/public/simple/\n",
            "Collecting tyxe\n",
            "  Downloading tyxe-0.0.2-py3-none-any.whl (22 kB)\n",
            "Requirement already satisfied: torch>=1.13.1 in /usr/local/lib/python3.8/dist-packages (from tyxe) (1.13.1+cu116)\n",
            "Requirement already satisfied: pyro-ppl>=1.8.1 in /usr/local/lib/python3.8/dist-packages (from tyxe) (1.8.4)\n",
            "Requirement already satisfied: torchvision>=0.14 in /usr/local/lib/python3.8/dist-packages (from tyxe) (0.14.1+cu116)\n",
            "Requirement already satisfied: pyro-api>=0.1.1 in /usr/local/lib/python3.8/dist-packages (from pyro-ppl>=1.8.1->tyxe) (0.1.2)\n",
            "Requirement already satisfied: numpy>=1.7 in /usr/local/lib/python3.8/dist-packages (from pyro-ppl>=1.8.1->tyxe) (1.21.6)\n",
            "Requirement already satisfied: opt-einsum>=2.3.2 in /usr/local/lib/python3.8/dist-packages (from pyro-ppl>=1.8.1->tyxe) (3.3.0)\n",
            "Requirement already satisfied: tqdm>=4.36 in /usr/local/lib/python3.8/dist-packages (from pyro-ppl>=1.8.1->tyxe) (4.64.1)\n",
            "Requirement already satisfied: typing-extensions in /usr/local/lib/python3.8/dist-packages (from torch>=1.13.1->tyxe) (4.5.0)\n",
            "Requirement already satisfied: requests in /usr/local/lib/python3.8/dist-packages (from torchvision>=0.14->tyxe) (2.25.1)\n",
            "Requirement already satisfied: pillow!=8.3.*,>=5.3.0 in /usr/local/lib/python3.8/dist-packages (from torchvision>=0.14->tyxe) (7.1.2)\n",
            "Requirement already satisfied: certifi>=2017.4.17 in /usr/local/lib/python3.8/dist-packages (from requests->torchvision>=0.14->tyxe) (2022.12.7)\n",
            "Requirement already satisfied: idna<3,>=2.5 in /usr/local/lib/python3.8/dist-packages (from requests->torchvision>=0.14->tyxe) (2.10)\n",
            "Requirement already satisfied: urllib3<1.27,>=1.21.1 in /usr/local/lib/python3.8/dist-packages (from requests->torchvision>=0.14->tyxe) (1.24.3)\n",
            "Requirement already satisfied: chardet<5,>=3.0.2 in /usr/local/lib/python3.8/dist-packages (from requests->torchvision>=0.14->tyxe) (4.0.0)\n",
            "Installing collected packages: tyxe\n",
            "Successfully installed tyxe-0.0.2\n"
          ]
        }
      ]
    },
    {
      "cell_type": "code",
      "source": [
        "class BayesianLinearRegression(nn.Module):\n",
        "  def __init__(self, in_features, out_features):\n",
        "    super(BayesianLinearRegression, self).__init__()\n",
        "\n",
        "    self.fc1 = nn.Linear(in_features, 50)\n",
        "    self.fc2 = nn.Linear(50, out_features)\n",
        "    self.relu = nn.ReLU()\n",
        "    \n",
        "  def forward(self, x):\n",
        "    x = self.fc1(x)\n",
        "    x = self.relu(x)\n",
        "    y = self.fc2(x)\n",
        "    \n",
        "    return y"
      ],
      "metadata": {
        "id": "LazkveN-7EzJ"
      },
      "execution_count": 4,
      "outputs": []
    },
    {
      "cell_type": "code",
      "source": [
        "def demo_blr(x):\n",
        "  return 0.4 * np.sin(x) + 0.03 * x + np.random.uniform(0, 0.5, size = [1])\n",
        "  \n",
        "x = np.linspace(0, 2, 50).reshape(-1, 1)\n",
        "y = demo_blr(x).reshape(-1, 1)\n",
        "\n",
        "x = torch.from_numpy(x).float()\n",
        "y = torch.from_numpy(y).float()\n",
        "\n",
        "\n",
        "train_data = TensorDataset(x, y)\n",
        "train_set = DataLoader(train_data, batch_size = x.shape[0], shuffle = True)\n",
        "\n",
        "LRM = BayesianLinearRegression(1, 1)\n",
        "\n",
        "pyro.clear_param_store()\n",
        "\n",
        "prior = tyxe.priors.IIDPrior(pyro.distributions.Normal(0, 1))\n",
        "\n",
        "obs_model = tyxe.likelihoods.HomoskedasticGaussian(len(x), scale=0.1)\n",
        "kernel = partial(pyro.infer.mcmc.HMC, step_size=1e-3, num_steps=50, target_accept_prob=0.7)\n",
        "bnn = tyxe.bnn.MCMC_BNN(LRM, prior, obs_model, kernel)\n",
        "\n",
        "bnn.fit(train_set, 1000, warmup_steps=200)\n"
      ],
      "metadata": {
        "id": "nmk7zsSg7th-",
        "colab": {
          "base_uri": "https://localhost:8080/"
        },
        "outputId": "35570126-552a-46d2-efc3-baf669bedf5d"
      },
      "execution_count": 17,
      "outputs": [
        {
          "output_type": "stream",
          "name": "stderr",
          "text": [
            "Sample: 100%|██████████| 1200/1200 [00:13, 88.20it/s, step size=3.41e-01, acc. prob=0.832] \n"
          ]
        },
        {
          "output_type": "execute_result",
          "data": {
            "text/plain": [
              "<pyro.infer.mcmc.api.MCMC at 0x7f074c0e44c0>"
            ]
          },
          "metadata": {},
          "execution_count": 17
        }
      ]
    },
    {
      "cell_type": "code",
      "source": [
        "x_test = np.linspace(0, 2, 10).reshape(-1, 1)\n",
        "y_test = demo_blr(x_test)\n",
        "x_test = torch.from_numpy(x_test).float()\n",
        "mu, std = bnn.predict(x_test, num_predictions = 200)\n",
        "\n",
        "plt.figure(1)\n",
        "plt.plot(x_test, y_test)\n",
        "plt.plot(x_test, mu)\n",
        "for c in range(4):\n",
        "  plt.fill_between(x_test.squeeze(), (mu - 3 *std).squeeze(), (mu + 3 * std).squeeze(), alpha = c * 0.1, color = 'blue')"
      ],
      "metadata": {
        "colab": {
          "base_uri": "https://localhost:8080/",
          "height": 269
        },
        "id": "n2rnejfW77mc",
        "outputId": "a1d08f52-4f51-4e2b-b6ce-f30096b5a95b"
      },
      "execution_count": 18,
      "outputs": [
        {
          "output_type": "display_data",
          "data": {
            "text/plain": [
              "<Figure size 432x288 with 1 Axes>"
            ],
            "image/png": "[encoded data removed]"
          },
          "metadata": {
            "needs_background": "light"
          }
        }
      ]
    }
  ]
}